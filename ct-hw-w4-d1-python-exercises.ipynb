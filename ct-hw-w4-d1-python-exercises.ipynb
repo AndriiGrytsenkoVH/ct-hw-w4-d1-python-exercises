{
 "cells": [
  {
   "attachments": {},
   "cell_type": "markdown",
   "metadata": {},
   "source": [
    "# Exercise #1\n",
    "\n",
    "Filter out all of the empty strings from the list below\n",
    "\n",
    "Output: ['Argentina', 'San Diego', 'Boston', 'New York']\n",
    "\n"
   ]
  },
  {
   "cell_type": "code",
   "execution_count": 4,
   "metadata": {},
   "outputs": [
    {
     "data": {
      "text/plain": [
       "['Argentina', 'San Diego', 'Boston', 'New York']"
      ]
     },
     "execution_count": 4,
     "metadata": {},
     "output_type": "execute_result"
    }
   ],
   "source": [
    "places = [\" \",\"Argentina\", \" \", \"San Diego\",\"\",\"  \",\"\",\"Boston\",\"New York\"]\n",
    "# str.split() returns [] for all empty strings, which is a Falsy value that can be filtered\n",
    "list(filter(lambda x: x.split(), places))"
   ]
  },
  {
   "attachments": {},
   "cell_type": "markdown",
   "metadata": {},
   "source": [
    "# Exercise #2\n",
    "\n",
    "Write an anonymous function that sorts this list by the last name...\n",
    "\n",
    "Hint: Use the \".sort()\" method and access the key\""
   ]
  },
  {
   "cell_type": "code",
   "execution_count": 10,
   "metadata": {},
   "outputs": [
    {
     "name": "stdout",
     "output_type": "stream",
     "text": [
      "['Victor aNisimov', 'Gary A.J. Bernstein', 'Joel Carter', 'Andrew P. Garfield', 'David hassELHOFF']\n"
     ]
    }
   ],
   "source": [
    "author = [\"Joel Carter\", \"Victor aNisimov\", \"Andrew P. Garfield\",\"David hassELHOFF\",\"Gary A.J. Bernstein\"]\n",
    "\n",
    "author.sort(key = lambda elem: elem.split()[-1].lower())\n",
    "print(author)"
   ]
  },
  {
   "attachments": {},
   "cell_type": "markdown",
   "metadata": {},
   "source": [
    "# Exercise #3\n",
    "\n",
    "Convert the list below from Celsius to Farhenheit, using the map function with a lambda...\n",
    "\n",
    "Output: [('Nashua', 89.6), ('Boston', 53.6), ('Los Angeles', 111.2), ('Miami', 84.2)]"
   ]
  },
  {
   "cell_type": "code",
   "execution_count": 12,
   "metadata": {},
   "outputs": [
    {
     "name": "stdout",
     "output_type": "stream",
     "text": [
      "[('Nashua', 89.6), ('Boston', 53.6), ('Los Angeles', 111.2), ('Miami', 84.2)]\n"
     ]
    }
   ],
   "source": [
    "# F = (9/5)*C + 32\n",
    "places = [('Nashua',32),(\"Boston\",12),(\"Los Angeles\",44),(\"Miami\",29)]\n",
    "new_places = list(map(lambda elem: (elem[0], elem[1]*9/5 + 32) , places))\n",
    "print(new_places)"
   ]
  },
  {
   "attachments": {},
   "cell_type": "markdown",
   "metadata": {},
   "source": [
    "# Exercise #4\n",
    "\n",
    "Write a recursion function to perform the fibonacci sequence up to the number passed in.\n",
    "\n",
    "Output for fib(5) => Iteration 0: 1 Iteration 1: 1 Iteration 2: 2 Iteration 3: 3 Iteration 4: 5 Iteration 5: 8"
   ]
  },
  {
   "cell_type": "code",
   "execution_count": 33,
   "metadata": {},
   "outputs": [
    {
     "name": "stdout",
     "output_type": "stream",
     "text": [
      "Iteration 0: 0\n",
      "Iteration 1: 1\n",
      "Iteration 2: 1\n",
      "Iteration 3: 2\n",
      "Iteration 4: 3\n",
      "Iteration 5: 5\n",
      "Iteration 6: 8\n",
      "Iteration 7: 13\n",
      "Iteration 8: 21\n",
      "Iteration 9: 34\n",
      "Iteration 10: 55\n",
      "Iteration 11: 89\n",
      "Iteration 12: 144\n",
      "Iteration 13: 233\n",
      "Iteration 14: 377\n",
      "Iteration 15: 610\n",
      "Iteration 16: 987\n",
      "Iteration 17: 1597\n",
      "Iteration 18: 2584\n",
      "Iteration 19: 4181\n"
     ]
    }
   ],
   "source": [
    "# Fibonacci with a hidden cache for speed\n",
    "\n",
    "def hide_cache():\n",
    "\n",
    "    cache = {\n",
    "        0:0,\n",
    "        1:1,\n",
    "        2:1\n",
    "    }\n",
    "\n",
    "    def fib(num):\n",
    "        if num in cache:\n",
    "            return cache[num]\n",
    "        else:\n",
    "            result = fib(num-2)+fib(num-1)\n",
    "            cache[num] = result\n",
    "            return result\n",
    "\n",
    "    return fib\n",
    "fib = hide_cache()\n",
    "\n",
    "for i in range(20):\n",
    "    print(f\"Iteration {i}: {fib(i)}\")\n"
   ]
  },
  {
   "cell_type": "code",
   "execution_count": 2,
   "metadata": {},
   "outputs": [
    {
     "name": "stdout",
     "output_type": "stream",
     "text": [
      "Iteration 0: 0\n",
      "Iteration 1: 1\n",
      "Iteration 2: 1\n",
      "Iteration 3: 2\n",
      "Iteration 4: 3\n",
      "Iteration 5: 5\n",
      "Iteration 6: 8\n",
      "Iteration 7: 13\n",
      "Iteration 8: 21\n",
      "Iteration 9: 34\n",
      "Iteration 10: 55\n",
      "Iteration 11: 89\n",
      "Iteration 12: 144\n",
      "Iteration 13: 233\n",
      "Iteration 14: 377\n",
      "Iteration 15: 610\n",
      "Iteration 16: 987\n",
      "Iteration 17: 1597\n",
      "Iteration 18: 2584\n",
      "Iteration 19: 4181\n"
     ]
    }
   ],
   "source": [
    "# Fibonacci as a generator\n",
    "\n",
    "# Made to behave similar to range. 0: 0, 1: 1, 2: 1, 3: 2, etc...\n",
    "# fib_iter(0) is empty, same as range\n",
    "def fib_iter(num):\n",
    "    # to start the sequence, Fibonacci[-1] is required, and it must be 1 (precious = next - current => 1 = 1 - 0)\n",
    "    previous = 1\n",
    "    current = 0\n",
    "    i = 0\n",
    "    while i < num:\n",
    "        yield current\n",
    "        previous, current = current, previous + current\n",
    "        i += 1\n",
    "\n",
    "# for f in fib_iter(20):\n",
    "#     print(f)\n",
    "\n",
    "\n",
    "n = 20\n",
    "for i,f in zip(range(n),fib_iter(n)):\n",
    "    print(f\"Iteration {i}: {f}\")"
   ]
  },
  {
   "cell_type": "code",
   "execution_count": 34,
   "metadata": {},
   "outputs": [
    {
     "ename": "ValueError",
     "evalue": "too many values to unpack (expected 2)",
     "output_type": "error",
     "traceback": [
      "\u001b[1;31m---------------------------------------------------------------------------\u001b[0m",
      "\u001b[1;31mValueError\u001b[0m                                Traceback (most recent call last)",
      "Cell \u001b[1;32mIn[34], line 1\u001b[0m\n\u001b[1;32m----> 1\u001b[0m \u001b[39mfor\u001b[39;00m x,y \u001b[39min\u001b[39;00m  \u001b[39mrange\u001b[39m(\u001b[39m5\u001b[39m),\u001b[39mrange\u001b[39m(\u001b[39m5\u001b[39m):\n\u001b[0;32m      2\u001b[0m     \u001b[39mprint\u001b[39m(i)\n",
      "\u001b[1;31mValueError\u001b[0m: too many values to unpack (expected 2)"
     ]
    }
   ],
   "source": [
    "# why\n",
    "for x,y in  range(5),range(5):\n",
    "    print(x,y)"
   ]
  },
  {
   "cell_type": "code",
   "execution_count": 4,
   "metadata": {},
   "outputs": [
    {
     "ename": "TypeError",
     "evalue": "'range' object is not an iterator",
     "output_type": "error",
     "traceback": [
      "\u001b[1;31m---------------------------------------------------------------------------\u001b[0m",
      "\u001b[1;31mTypeError\u001b[0m                                 Traceback (most recent call last)",
      "Cell \u001b[1;32mIn[4], line 8\u001b[0m\n\u001b[0;32m      4\u001b[0m     \u001b[39myield\u001b[39;00m (\u001b[39mnext\u001b[39m(g) \u001b[39mfor\u001b[39;00m g \u001b[39min\u001b[39;00m gens)\n\u001b[0;32m      6\u001b[0m gen \u001b[39m=\u001b[39m \u001b[39mrange\u001b[39m(\u001b[39m10\u001b[39m)\n\u001b[1;32m----> 8\u001b[0m \u001b[39mfor\u001b[39;00m x,y \u001b[39min\u001b[39;00m composite_gen(gen,gen):\n\u001b[0;32m      9\u001b[0m     \u001b[39mprint\u001b[39m(x,y)\n",
      "Cell \u001b[1;32mIn[4], line 4\u001b[0m, in \u001b[0;36m<genexpr>\u001b[1;34m(.0)\u001b[0m\n\u001b[0;32m      3\u001b[0m \u001b[39mdef\u001b[39;00m \u001b[39mcomposite_gen\u001b[39m(\u001b[39m*\u001b[39mgens):\n\u001b[1;32m----> 4\u001b[0m     \u001b[39myield\u001b[39;00m (\u001b[39mnext\u001b[39;49m(g) \u001b[39mfor\u001b[39;00m g \u001b[39min\u001b[39;00m gens)\n",
      "\u001b[1;31mTypeError\u001b[0m: 'range' object is not an iterator"
     ]
    }
   ],
   "source": [
    "# Composite generator\n",
    "\n",
    "def composite_gen(*gens):\n",
    "    yield (next(g) for g in gens)\n",
    "\n",
    "gen = range(10)\n",
    "\n",
    "for x,y in composite_gen(gen,gen):\n",
    "    print(x,y)"
   ]
  },
  {
   "cell_type": "code",
   "execution_count": 10,
   "metadata": {},
   "outputs": [
    {
     "data": {
      "text/plain": [
       "0"
      ]
     },
     "execution_count": 10,
     "metadata": {},
     "output_type": "execute_result"
    }
   ],
   "source": [
    "gen = range(10)\n",
    "next(iter(gen))"
   ]
  },
  {
   "cell_type": "code",
   "execution_count": 12,
   "metadata": {},
   "outputs": [
    {
     "name": "stdout",
     "output_type": "stream",
     "text": [
      "(0, 'a')\n",
      "(1, 'b')\n",
      "(2, 'c')\n"
     ]
    }
   ],
   "source": [
    "# it yields a tuple !!!\n",
    "for x in enumerate(\"abc\"):\n",
    "    print(x)"
   ]
  },
  {
   "cell_type": "code",
   "execution_count": 73,
   "metadata": {},
   "outputs": [
    {
     "name": "stdout",
     "output_type": "stream",
     "text": [
      "0 1\n",
      "1 2\n",
      "2 3\n",
      "3 4\n",
      "4 5\n",
      "5 6\n",
      "6 7\n",
      "7 8\n",
      "8 9\n",
      "9 10\n"
     ]
    }
   ],
   "source": [
    "def iter_concatenated(*iter_ables):\n",
    "    iterators = [iter(i) for i in iter_ables]\n",
    "    while True:\n",
    "        try:\n",
    "            yield [next(i) for i in iterators]\n",
    "        except:\n",
    "            break\n",
    "\n",
    "\n",
    "for x,y in iter_concatenated(range(10),range(1,11)):\n",
    "    print(x,y)"
   ]
  },
  {
   "cell_type": "code",
   "execution_count": 1,
   "metadata": {},
   "outputs": [
    {
     "name": "stdout",
     "output_type": "stream",
     "text": [
      "0 1\n",
      "1 2\n",
      "2 3\n",
      "3 4\n",
      "4 5\n",
      "5 6\n",
      "6 7\n",
      "7 8\n",
      "8 9\n",
      "9 10\n"
     ]
    }
   ],
   "source": [
    "# It has been a ZIP all along !!!\n",
    "\n",
    "for x,y in zip(range(10),range(1,11)):\n",
    "    print(x,y)"
   ]
  },
  {
   "cell_type": "code",
   "execution_count": 6,
   "metadata": {},
   "outputs": [
    {
     "name": "stdout",
     "output_type": "stream",
     "text": [
      "<generator object <genexpr> at 0x0000024162E747B0>\n",
      "<generator object gen_func at 0x0000024162E74820>\n"
     ]
    }
   ],
   "source": [
    "gen_1 = (x for x in range(10))\n",
    "print(gen_1)\n",
    "\n",
    "def gen_func(num):\n",
    "    while num > 0:\n",
    "        yield num\n",
    "        num -= 1\n",
    "print(gen_func(10))"
   ]
  },
  {
   "cell_type": "code",
   "execution_count": 71,
   "metadata": {},
   "outputs": [
    {
     "ename": "TypeError",
     "evalue": "'generator' object is not subscriptable",
     "output_type": "error",
     "traceback": [
      "\u001b[1;31m---------------------------------------------------------------------------\u001b[0m",
      "\u001b[1;31mTypeError\u001b[0m                                 Traceback (most recent call last)",
      "Cell \u001b[1;32mIn[71], line 5\u001b[0m\n\u001b[0;32m      3\u001b[0m iterables \u001b[39m=\u001b[39m (\u001b[39mrange\u001b[39m(\u001b[39m10\u001b[39m), \u001b[39m\"\u001b[39m\u001b[39masdfasdf\u001b[39m\u001b[39m\"\u001b[39m)\n\u001b[0;32m      4\u001b[0m iterators \u001b[39m=\u001b[39m (\u001b[39miter\u001b[39m(i) \u001b[39mfor\u001b[39;00m i \u001b[39min\u001b[39;00m iterables)\n\u001b[1;32m----> 5\u001b[0m \u001b[39mprint\u001b[39m((\u001b[39mnext\u001b[39m(iterators[\u001b[39m0\u001b[39;49m]),\u001b[39mnext\u001b[39m(iterators[\u001b[39m1\u001b[39m])))\n\u001b[0;32m      6\u001b[0m \u001b[39mprint\u001b[39m((\u001b[39mnext\u001b[39m(iterators[\u001b[39m0\u001b[39m]),\u001b[39mnext\u001b[39m(iterators[\u001b[39m1\u001b[39m])))\n",
      "\u001b[1;31mTypeError\u001b[0m: 'generator' object is not subscriptable"
     ]
    }
   ],
   "source": [
    "# what is going on in here ???\n",
    "\n",
    "iterables = (range(10), \"asdfasdf\")\n",
    "iterators = (iter(i) for i in iterables)\n",
    "print((next(iterators[0]),next(iterators[1])))\n",
    "print((next(iterators[0]),next(iterators[1])))"
   ]
  },
  {
   "cell_type": "code",
   "execution_count": 64,
   "metadata": {},
   "outputs": [
    {
     "name": "stdout",
     "output_type": "stream",
     "text": [
      "(0, 'a')\n",
      "(1, 's')\n"
     ]
    }
   ],
   "source": [
    "iterables = (range(10), \"asdfasdf\")\n",
    "iterators = [iter(i) for i in iterables]\n",
    "print(tuple(next(i) for i in iterators))\n",
    "print(tuple(next(i) for i in iterators))\n",
    "\n"
   ]
  },
  {
   "cell_type": "code",
   "execution_count": 72,
   "metadata": {},
   "outputs": [
    {
     "name": "stdout",
     "output_type": "stream",
     "text": [
      "<generator object <genexpr> at 0x000001D121FC3D80>\n"
     ]
    }
   ],
   "source": [
    "my_list = [1,2,3,4,5]\n",
    "enigma = (i for i in my_list)\n",
    "print(enigma)"
   ]
  },
  {
   "cell_type": "code",
   "execution_count": 76,
   "metadata": {},
   "outputs": [
    {
     "name": "stdout",
     "output_type": "stream",
     "text": [
      "a s\n"
     ]
    }
   ],
   "source": [
    "q,w,e,r,t = \"asdfg\"\n",
    "print(q,w)"
   ]
  },
  {
   "attachments": {},
   "cell_type": "markdown",
   "metadata": {},
   "source": [
    "# Exercise #5\n",
    "\n",
    "Create a generator that takes a number argument and yields that number squared, then prints each number squared until zero is reached."
   ]
  },
  {
   "cell_type": "code",
   "execution_count": 8,
   "metadata": {},
   "outputs": [
    {
     "name": "stdout",
     "output_type": "stream",
     "text": [
      "100\n",
      "81\n",
      "64\n",
      "49\n",
      "36\n",
      "25\n",
      "16\n",
      "9\n",
      "4\n",
      "1\n",
      "0\n"
     ]
    }
   ],
   "source": [
    "def my_gen(number):\n",
    "    while number >= 0:\n",
    "        yield number**2\n",
    "        number -= 1\n",
    "\n",
    "for num in my_gen(10):\n",
    "    print(num)\n",
    "    \n",
    "# 100\n",
    "# 81\n",
    "# 64\n",
    "# 49\n",
    "# 36\n",
    "# 25\n",
    "# 16\n",
    "# 9\n",
    "# 4\n",
    "# 2\n",
    "# 1\n",
    "# 0"
   ]
  }
 ],
 "metadata": {
  "kernelspec": {
   "display_name": "Python 3",
   "language": "python",
   "name": "python3"
  },
  "language_info": {
   "codemirror_mode": {
    "name": "ipython",
    "version": 3
   },
   "file_extension": ".py",
   "mimetype": "text/x-python",
   "name": "python",
   "nbconvert_exporter": "python",
   "pygments_lexer": "ipython3",
   "version": "3.10.8"
  },
  "orig_nbformat": 4,
  "vscode": {
   "interpreter": {
    "hash": "26de051ba29f2982a8de78e945f0abaf191376122a1563185a90213a26c5da77"
   }
  }
 },
 "nbformat": 4,
 "nbformat_minor": 2
}
