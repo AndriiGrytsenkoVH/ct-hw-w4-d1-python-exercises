{
 "cells": [
  {
   "attachments": {},
   "cell_type": "markdown",
   "metadata": {},
   "source": [
    "# Exercise #1\n",
    "\n",
    "Filter out all of the empty strings from the list below\n",
    "\n",
    "Output: ['Argentina', 'San Diego', 'Boston', 'New York']\n",
    "\n"
   ]
  },
  {
   "cell_type": "code",
   "execution_count": 4,
   "metadata": {},
   "outputs": [
    {
     "data": {
      "text/plain": [
       "['Argentina', 'San Diego', 'Boston', 'New York']"
      ]
     },
     "execution_count": 4,
     "metadata": {},
     "output_type": "execute_result"
    }
   ],
   "source": [
    "places = [\" \",\"Argentina\", \" \", \"San Diego\",\"\",\"  \",\"\",\"Boston\",\"New York\"]\n",
    "# str.split() returns [] for all empty strings, which is a Falsy value that can be filtered\n",
    "list(filter(lambda x: x.split(), places))"
   ]
  },
  {
   "attachments": {},
   "cell_type": "markdown",
   "metadata": {},
   "source": [
    "# Exercise #2\n",
    "\n",
    "Write an anonymous function that sorts this list by the last name...\n",
    "\n",
    "Hint: Use the \".sort()\" method and access the key\""
   ]
  },
  {
   "cell_type": "code",
   "execution_count": 10,
   "metadata": {},
   "outputs": [
    {
     "name": "stdout",
     "output_type": "stream",
     "text": [
      "['Victor aNisimov', 'Gary A.J. Bernstein', 'Joel Carter', 'Andrew P. Garfield', 'David hassELHOFF']\n"
     ]
    }
   ],
   "source": [
    "author = [\"Joel Carter\", \"Victor aNisimov\", \"Andrew P. Garfield\",\"David hassELHOFF\",\"Gary A.J. Bernstein\"]\n",
    "\n",
    "author.sort(key = lambda elem: elem.split()[-1].lower())\n",
    "print(author)"
   ]
  },
  {
   "attachments": {},
   "cell_type": "markdown",
   "metadata": {},
   "source": [
    "# Exercise #3\n",
    "\n",
    "Convert the list below from Celsius to Farhenheit, using the map function with a lambda...\n",
    "\n",
    "Output: [('Nashua', 89.6), ('Boston', 53.6), ('Los Angeles', 111.2), ('Miami', 84.2)]"
   ]
  },
  {
   "cell_type": "code",
   "execution_count": 12,
   "metadata": {},
   "outputs": [
    {
     "name": "stdout",
     "output_type": "stream",
     "text": [
      "[('Nashua', 89.6), ('Boston', 53.6), ('Los Angeles', 111.2), ('Miami', 84.2)]\n"
     ]
    }
   ],
   "source": [
    "# F = (9/5)*C + 32\n",
    "places = [('Nashua',32),(\"Boston\",12),(\"Los Angeles\",44),(\"Miami\",29)]\n",
    "new_places = list(map(lambda elem: (elem[0], elem[1]*9/5 + 32) , places))\n",
    "print(new_places)"
   ]
  },
  {
   "attachments": {},
   "cell_type": "markdown",
   "metadata": {},
   "source": [
    "# Exercise #4\n",
    "\n",
    "Write a recursion function to perform the fibonacci sequence up to the number passed in.\n",
    "\n",
    "Output for fib(5) => Iteration 0: 1 Iteration 1: 1 Iteration 2: 2 Iteration 3: 3 Iteration 4: 5 Iteration 5: 8"
   ]
  },
  {
   "cell_type": "code",
   "execution_count": 33,
   "metadata": {},
   "outputs": [
    {
     "name": "stdout",
     "output_type": "stream",
     "text": [
      "Iteration 0: 0\n",
      "Iteration 1: 1\n",
      "Iteration 2: 1\n",
      "Iteration 3: 2\n",
      "Iteration 4: 3\n",
      "Iteration 5: 5\n",
      "Iteration 6: 8\n",
      "Iteration 7: 13\n",
      "Iteration 8: 21\n",
      "Iteration 9: 34\n",
      "Iteration 10: 55\n",
      "Iteration 11: 89\n",
      "Iteration 12: 144\n",
      "Iteration 13: 233\n",
      "Iteration 14: 377\n",
      "Iteration 15: 610\n",
      "Iteration 16: 987\n",
      "Iteration 17: 1597\n",
      "Iteration 18: 2584\n",
      "Iteration 19: 4181\n"
     ]
    }
   ],
   "source": [
    "# Fibonacci with a hidden cache for speed\n",
    "\n",
    "def hide_cache():\n",
    "\n",
    "    cache = {\n",
    "        0:0,\n",
    "        1:1,\n",
    "        2:1\n",
    "    }\n",
    "\n",
    "    def fib(num):\n",
    "        if num in cache:\n",
    "            return cache[num]\n",
    "        else:\n",
    "            result = fib(num-2)+fib(num-1)\n",
    "            cache[num] = result\n",
    "            return result\n",
    "\n",
    "    return fib\n",
    "fib = hide_cache()\n",
    "\n",
    "for i in range(20):\n",
    "    print(f\"Iteration {i}: {fib(i)}\")\n"
   ]
  },
  {
   "attachments": {},
   "cell_type": "markdown",
   "metadata": {},
   "source": [
    "### Experimenting with wrappers"
   ]
  },
  {
   "cell_type": "code",
   "execution_count": 2,
   "metadata": {},
   "outputs": [
    {
     "name": "stdout",
     "output_type": "stream",
     "text": [
      "Iteration 1: 1\n",
      "Iteration 2: 1\n",
      "Iteration 3: 2\n",
      "Iteration 4: 3\n",
      "Iteration 5: 5\n",
      "Iteration 6: 8\n",
      "Iteration 7: 13\n",
      "Iteration 8: 21\n",
      "Iteration 9: 34\n",
      "Iteration 10: 55\n",
      "Iteration 11: 89\n",
      "Iteration 12: 144\n",
      "Iteration 13: 233\n",
      "Iteration 14: 377\n",
      "Iteration 15: 610\n",
      "Iteration 16: 987\n",
      "Iteration 17: 1597\n",
      "Iteration 18: 2584\n",
      "Iteration 19: 4181\n"
     ]
    }
   ],
   "source": [
    "from functools import cache\n",
    "\n",
    "@cache\n",
    "def fib(num):\n",
    "    if num <= 2:\n",
    "        return 1\n",
    "    return fib(num - 1) + fib(num - 2)\n",
    "\n",
    "\n",
    "for i in range(1, 20):\n",
    "    print(f\"Iteration {i}: {fib(i)}\")"
   ]
  },
  {
   "cell_type": "code",
   "execution_count": 2,
   "metadata": {},
   "outputs": [
    {
     "name": "stdout",
     "output_type": "stream",
     "text": [
      "NOT CACHED\n",
      "Iteration 1: 1\n",
      "NOT CACHED\n",
      "Iteration 2: 1\n",
      "cached call!\n",
      "cached call!\n",
      "NOT CACHED\n",
      "Iteration 3: 2\n",
      "cached call!\n",
      "cached call!\n",
      "NOT CACHED\n",
      "Iteration 4: 3\n",
      "cached call!\n",
      "cached call!\n",
      "NOT CACHED\n",
      "Iteration 5: 5\n",
      "cached call!\n",
      "cached call!\n",
      "NOT CACHED\n",
      "Iteration 6: 8\n",
      "cached call!\n",
      "cached call!\n",
      "NOT CACHED\n",
      "Iteration 7: 13\n",
      "cached call!\n",
      "cached call!\n",
      "NOT CACHED\n",
      "Iteration 8: 21\n",
      "cached call!\n",
      "cached call!\n",
      "NOT CACHED\n",
      "Iteration 9: 34\n",
      "cached call!\n",
      "cached call!\n",
      "NOT CACHED\n",
      "Iteration 10: 55\n",
      "cached call!\n",
      "cached call!\n",
      "NOT CACHED\n",
      "Iteration 11: 89\n",
      "cached call!\n",
      "cached call!\n",
      "NOT CACHED\n",
      "Iteration 12: 144\n",
      "cached call!\n",
      "cached call!\n",
      "NOT CACHED\n",
      "Iteration 13: 233\n",
      "cached call!\n",
      "cached call!\n",
      "NOT CACHED\n",
      "Iteration 14: 377\n",
      "cached call!\n",
      "cached call!\n",
      "NOT CACHED\n",
      "Iteration 15: 610\n",
      "cached call!\n",
      "cached call!\n",
      "NOT CACHED\n",
      "Iteration 16: 987\n",
      "cached call!\n",
      "cached call!\n",
      "NOT CACHED\n",
      "Iteration 17: 1597\n",
      "cached call!\n",
      "cached call!\n",
      "NOT CACHED\n",
      "Iteration 18: 2584\n",
      "cached call!\n",
      "cached call!\n",
      "NOT CACHED\n",
      "Iteration 19: 4181\n"
     ]
    }
   ],
   "source": [
    "import functools\n",
    "\n",
    "def my_cache(func):\n",
    "    cache = dict()\n",
    "    # @functools.wraps(func) is needed so that the decorated function is properly named\n",
    "    # without it, it would be referencing the wrapper instead of func\n",
    "    @functools.wraps(func)\n",
    "    # only one argument functions for now\n",
    "    # more generally you could have used wrapper(*args, **kwargs)\n",
    "    def wrapper(arg):\n",
    "        if arg in cache:\n",
    "            print(\"cached call!\")\n",
    "            return cache[arg]\n",
    "        else:\n",
    "            result =  func(arg)\n",
    "            cache[arg] = result\n",
    "            print(\"NOT CACHED\")\n",
    "            return result\n",
    "\n",
    "    return wrapper\n",
    "        \n",
    "@my_cache\n",
    "def fib(num):\n",
    "    if num <= 2:\n",
    "        return 1\n",
    "    # Every non cached call will cause 2 cached calls due to recursion\n",
    "    return fib(num - 1) + fib(num - 2)\n",
    "\n",
    "\n",
    "for i in range(1, 20):\n",
    "    print(f\"Iteration {i}: {fib(i)}\")"
   ]
  },
  {
   "cell_type": "code",
   "execution_count": 2,
   "metadata": {},
   "outputs": [
    {
     "name": "stdout",
     "output_type": "stream",
     "text": [
      "Iteration 0: 0\n",
      "Iteration 1: 1\n",
      "Iteration 2: 1\n",
      "Iteration 3: 2\n",
      "Iteration 4: 3\n",
      "Iteration 5: 5\n",
      "Iteration 6: 8\n",
      "Iteration 7: 13\n",
      "Iteration 8: 21\n",
      "Iteration 9: 34\n",
      "Iteration 10: 55\n",
      "Iteration 11: 89\n",
      "Iteration 12: 144\n",
      "Iteration 13: 233\n",
      "Iteration 14: 377\n",
      "Iteration 15: 610\n",
      "Iteration 16: 987\n",
      "Iteration 17: 1597\n",
      "Iteration 18: 2584\n",
      "Iteration 19: 4181\n"
     ]
    }
   ],
   "source": [
    "# Fibonacci as a generator\n",
    "\n",
    "# Made to behave similar to range. 0: 0, 1: 1, 2: 1, 3: 2, etc...\n",
    "# fib_iter(0) is empty, same as range\n",
    "def fib_iter(num):\n",
    "    # to start the sequence, Fibonacci[-1] is required, and it must be 1 (precious = next - current => 1 = 1 - 0)\n",
    "    previous = 1\n",
    "    current = 0\n",
    "    i = 0\n",
    "    while i < num:\n",
    "        yield current\n",
    "        previous, current = current, previous + current\n",
    "        i += 1\n",
    "\n",
    "n = 20\n",
    "for i,f in zip(range(n),fib_iter(n)):\n",
    "    print(f\"Iteration {i}: {f}\")"
   ]
  },
  {
   "attachments": {},
   "cell_type": "markdown",
   "metadata": {},
   "source": [
    "# Exercise #5\n",
    "\n",
    "Create a generator that takes a number argument and yields that number squared, then prints each number squared until zero is reached."
   ]
  },
  {
   "cell_type": "code",
   "execution_count": 8,
   "metadata": {},
   "outputs": [
    {
     "name": "stdout",
     "output_type": "stream",
     "text": [
      "100\n",
      "81\n",
      "64\n",
      "49\n",
      "36\n",
      "25\n",
      "16\n",
      "9\n",
      "4\n",
      "1\n",
      "0\n"
     ]
    }
   ],
   "source": [
    "def my_gen(number):\n",
    "    while number >= 0:\n",
    "        yield number**2\n",
    "        number -= 1\n",
    "\n",
    "for num in my_gen(10):\n",
    "    print(num)\n",
    "    \n",
    "# 100\n",
    "# 81\n",
    "# 64\n",
    "# 49\n",
    "# 36\n",
    "# 25\n",
    "# 16\n",
    "# 9\n",
    "# 4\n",
    "# 2\n",
    "# 1\n",
    "# 0"
   ]
  }
 ],
 "metadata": {
  "kernelspec": {
   "display_name": "Python 3",
   "language": "python",
   "name": "python3"
  },
  "language_info": {
   "codemirror_mode": {
    "name": "ipython",
    "version": 3
   },
   "file_extension": ".py",
   "mimetype": "text/x-python",
   "name": "python",
   "nbconvert_exporter": "python",
   "pygments_lexer": "ipython3",
   "version": "3.10.9"
  },
  "orig_nbformat": 4,
  "vscode": {
   "interpreter": {
    "hash": "26de051ba29f2982a8de78e945f0abaf191376122a1563185a90213a26c5da77"
   }
  }
 },
 "nbformat": 4,
 "nbformat_minor": 2
}
